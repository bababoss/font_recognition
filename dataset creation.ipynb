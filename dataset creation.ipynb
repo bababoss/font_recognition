{
 "cells": [
  {
   "cell_type": "code",
   "execution_count": null,
   "metadata": {},
   "outputs": [],
   "source": [
    "!python -m pip install trdg\n"
   ]
  },
  {
   "cell_type": "code",
   "execution_count": 56,
   "metadata": {},
   "outputs": [],
   "source": [
    "import trdg\n",
    "import matplotlib.pyplot as plt\n",
    "import numpy as np\n",
    "from PIL import Image, ImageDraw, ImageFont\n",
    "import glob,os\n"
   ]
  },
  {
   "cell_type": "code",
   "execution_count": 86,
   "metadata": {},
   "outputs": [
    {
     "name": "stdout",
     "output_type": "stream",
     "text": [
      "Arimo\t\t    Fredoka_One      Noto_Sans.zip  Oswald.zip\t   Roboto\n",
      "Arimo.zip\t    Fredoka_One.zip  Open_Sans\t    Patua_One\t   Roboto.zip\n",
      "Dancing_Script\t    LICENSE.txt      Open_Sans.zip  Patua_One.zip  Ubuntu\n",
      "Dancing_Script.zip  Noto_Sans\t     Oswald\t    PT_Serif.zip   Ubuntu.zip\n"
     ]
    }
   ],
   "source": [
    "!ls /home/ubuntu/project/fonts"
   ]
  },
  {
   "cell_type": "code",
   "execution_count": 87,
   "metadata": {},
   "outputs": [
    {
     "data": {
      "text/plain": [
       "'Arimo'"
      ]
     },
     "execution_count": 87,
     "metadata": {},
     "output_type": "execute_result"
    }
   ],
   "source": [
    "font_list=glob.glob(\"/home/ubuntu/project/fonts/Arimo/*.ttf\")\n",
    "os.path.split(font_list[0])[0].split('/')[-1]\n"
   ]
  },
  {
   "cell_type": "code",
   "execution_count": null,
   "metadata": {},
   "outputs": [],
   "source": []
  },
  {
   "cell_type": "code",
   "execution_count": 90,
   "metadata": {},
   "outputs": [
    {
     "name": "stdout",
     "output_type": "stream",
     "text": [
      "1\n",
      "Hello, World! (138, 32)\n",
      "1\n",
      "Hello, World! (133, 32)\n"
     ]
    }
   ],
   "source": [
    "import PIL  \n",
    "from trdg.generators import (\n",
    "    GeneratorFromDict,\n",
    "    GeneratorFromRandom,\n",
    "    GeneratorFromStrings,\n",
    "    GeneratorFromWikipedia,\n",
    ")\n",
    "\n",
    "# The generators use the same arguments as the CLI, only as parameters\n",
    "BASE_DIR=os.getcwd()\n",
    "\n",
    "for fonts in font_list:\n",
    "    generator = GeneratorFromStrings(\n",
    "        [\"Hello, World!\"],\n",
    "    #     blur=2,\n",
    "    #     random_blur=True\n",
    "        background_type=0,\n",
    "        fonts=[fonts],\n",
    "        size=32\n",
    "    )\n",
    "    # project/TextRecognitionDataGenerator/trdg/fonts/ar/NotoSansArabic-Regular.ttf\n",
    "\n",
    "    count=0\n",
    "    imdir=BASE_DIR+\"/dataset/\"+os.path.split(fonts)[0].split('/')[-1]\n",
    "    os.makedirs(imdir,exist_ok=True)\n",
    "    for img, lbl in generator:\n",
    "        # Do something with the pillow images here.\n",
    "        count+=1\n",
    "        print(count)\n",
    "        print(lbl,img.size)\n",
    "        imname=os.path.split(fonts)[1].split(\".\")[0]+str(count)+\".jpg\"\n",
    "        img = img.save(os.path.join(imdir,imname)) \n",
    "        \n",
    "        break\n",
    "    "
   ]
  },
  {
   "cell_type": "code",
   "execution_count": 83,
   "metadata": {},
   "outputs": [
    {
     "data": {
      "text/plain": [
       "<matplotlib.image.AxesImage at 0x7f67c8ccec90>"
      ]
     },
     "execution_count": 83,
     "metadata": {},
     "output_type": "execute_result"
    },
    {
     "data": {
      "image/png": "[encoded data removed]",
      "text/plain": [
       "<Figure size 432x288 with 1 Axes>"
      ]
     },
     "metadata": {
      "needs_background": "light"
     },
     "output_type": "display_data"
    }
   ],
   "source": [
    "def text_masked_image(font_dir):\n",
    "    height,width,_=40,60,3\n",
    "    blank_image = np.ones((height,width,3), np.uint8)*255\n",
    "    img = Image.fromarray(blank_image.astype('uint8'), 'RGB')\n",
    "\n",
    "\n",
    "    font_size=16\n",
    "    for font_path in font_dir:\n",
    "\n",
    "        fnt = ImageFont.truetype(font_path, font_size,index=0,encoding='armn')\n",
    "        d = ImageDraw.Draw(img)\n",
    "        \n",
    "        d.text((3,height/2-10), \"Hello, World!\", font=fnt, fill=(0, 0, 0))\n",
    "        open_cv_image = np.array(img) \n",
    "        # Convert RGB to BGR \n",
    "        open_cv_image = open_cv_image[:, :, ::-1].copy() \n",
    "    return open_cv_image\n",
    "font_dir=[\"/home/ubuntu/project/TextRecognitionDataGenerator/trdg/fonts/latin/CaviarDreams.ttf\"]\n",
    "\n",
    "plt.imshow(text_masked_image(font_dir), alpha=0.9)"
   ]
  },
  {
   "cell_type": "code",
   "execution_count": null,
   "metadata": {},
   "outputs": [],
   "source": [
    "project/TextRecognitionDataGenerator/trdg/fonts/latin/CaviarDreams.ttf"
   ]
  }
 ],
 "metadata": {
  "kernelspec": {
   "display_name": "pytorch_p36",
   "language": "python",
   "name": "pytorch_p36"
  },
  "language_info": {
   "codemirror_mode": {
    "name": "ipython",
    "version": 3
   },
   "file_extension": ".py",
   "mimetype": "text/x-python",
   "name": "python",
   "nbconvert_exporter": "python",
   "pygments_lexer": "ipython3",
   "version": "3.7.7"
  }
 },
 "nbformat": 4,
 "nbformat_minor": 4
}
